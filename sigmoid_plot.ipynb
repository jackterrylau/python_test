{
 "cells": [
  {
   "cell_type": "code",
   "execution_count": 2,
   "metadata": {},
   "outputs": [
    {
     "data": {
      "text/latex": [
       "$$ \\displaystyle \\mathrm{sigmoid}(x) = \\frac{{1}}{{1} + \\exp{\\left({-{3} x + {5}}\\right)}} $$"
      ],
      "text/plain": [
       "<latexify.frontend.LatexifiedFunction at 0x7fbadc174040>"
      ]
     },
     "execution_count": 2,
     "metadata": {},
     "output_type": "execute_result"
    }
   ],
   "source": [
    "import math\n",
    "import latexify\n",
    "\n",
    "@latexify.with_latex\n",
    "def sigmoid(x):\n",
    "    return 1 / (1 + math.exp(-3*x+5))\n",
    "\n",
    "#print (\"sigmoid(3) = \", sigmoid(3))\n",
    "sigmoid\n"
   ]
  },
  {
   "cell_type": "code",
   "execution_count": 3,
   "metadata": {},
   "outputs": [
    {
     "name": "stdout",
     "output_type": "stream",
     "text": [
      "x values =  [-100  -99  -98  -97  -96  -95  -94  -93  -92  -91  -90  -89  -88  -87\n",
      "  -86  -85  -84  -83  -82  -81  -80  -79  -78  -77  -76  -75  -74  -73\n",
      "  -72  -71  -70  -69  -68  -67  -66  -65  -64  -63  -62  -61  -60  -59\n",
      "  -58  -57  -56  -55  -54  -53  -52  -51  -50  -49  -48  -47  -46  -45\n",
      "  -44  -43  -42  -41  -40  -39  -38  -37  -36  -35  -34  -33  -32  -31\n",
      "  -30  -29  -28  -27  -26  -25  -24  -23  -22  -21  -20  -19  -18  -17\n",
      "  -16  -15  -14  -13  -12  -11  -10   -9   -8   -7   -6   -5   -4   -3\n",
      "   -2   -1    0    1    2    3    4    5    6    7    8    9   10   11\n",
      "   12   13   14   15   16   17   18   19   20   21   22   23   24   25\n",
      "   26   27   28   29   30   31   32   33   34   35   36   37   38   39\n",
      "   40   41   42   43   44   45   46   47   48   49   50   51   52   53\n",
      "   54   55   56   57   58   59   60   61   62   63   64   65   66   67\n",
      "   68   69   70   71   72   73   74   75   76   77   78   79   80   81\n",
      "   82   83   84   85   86   87   88   89   90   91   92   93   94   95\n",
      "   96   97   98   99  100]\n",
      "x values =  [3.46883002e-133 6.96733135e-132 1.39942591e-130 2.81082208e-129\n",
      " 5.64568707e-128 1.13396656e-126 2.27763272e-125 4.57474762e-124\n",
      " 9.18862622e-123 1.84558491e-121 3.70695639e-120 7.44562094e-119\n",
      " 1.49549294e-117 3.00377787e-116 6.03324914e-115 1.21181048e-113\n",
      " 2.43398642e-112 4.88879241e-111 9.81940205e-110 1.97227962e-108\n",
      " 3.96142952e-107 7.95674389e-106 1.59815473e-104 3.20997959e-103\n",
      " 6.44741635e-102 1.29499819e-100 2.60107340e-099 5.22439558e-098\n",
      " 1.04934790e-096 2.10767161e-095 4.23337159e-094 8.50295414e-093\n",
      " 1.70786399e-091 3.43033653e-090 6.89001510e-089 1.38389653e-087\n",
      " 2.77963048e-086 5.58303706e-085 1.12138297e-083 2.25235791e-082\n",
      " 4.52398179e-081 9.08666032e-080 1.82510451e-078 3.66582041e-077\n",
      " 7.36299712e-076 1.47889751e-074 2.97044505e-073 5.96629836e-072\n",
      " 1.19836306e-070 2.40697655e-069 4.83454164e-068 9.71043646e-067\n",
      " 1.95039330e-065 3.91746966e-064 7.86844816e-063 1.58042006e-061\n",
      " 3.17435855e-060 6.37586958e-059 1.28062764e-057 2.57220937e-056\n",
      " 5.16642063e-055 1.03770332e-053 2.08428284e-052 4.18639400e-051\n",
      " 8.40859712e-050 1.68891188e-048 3.39227019e-047 6.81355682e-046\n",
      " 1.36853947e-044 2.74878501e-043 5.52108228e-042 1.10893902e-040\n",
      " 2.22736356e-039 4.47377931e-038 8.98582594e-037 1.80485139e-035\n",
      " 3.62514092e-034 7.28129018e-033 1.46248623e-031 2.93748211e-030\n",
      " 5.90009054e-029 1.18506486e-027 2.38026641e-026 4.78089288e-025\n",
      " 9.60268005e-024 1.92874985e-022 3.87399763e-021 7.78113224e-020\n",
      " 1.56288219e-018 3.13913279e-017 6.30511676e-016 1.26641655e-014\n",
      " 2.54366565e-013 5.10908903e-012 1.02618796e-010 2.06115362e-009\n",
      " 4.13993755e-008 8.31528028e-007 1.67014218e-005 3.35350130e-004\n",
      " 6.69285092e-003 1.19202922e-001 7.31058579e-001 9.82013790e-001\n",
      " 9.99088949e-001 9.99954602e-001 9.99997740e-001 9.99999887e-001\n",
      " 9.99999994e-001 1.00000000e+000 1.00000000e+000 1.00000000e+000\n",
      " 1.00000000e+000 1.00000000e+000 1.00000000e+000 1.00000000e+000\n",
      " 1.00000000e+000 1.00000000e+000 1.00000000e+000 1.00000000e+000\n",
      " 1.00000000e+000 1.00000000e+000 1.00000000e+000 1.00000000e+000\n",
      " 1.00000000e+000 1.00000000e+000 1.00000000e+000 1.00000000e+000\n",
      " 1.00000000e+000 1.00000000e+000 1.00000000e+000 1.00000000e+000\n",
      " 1.00000000e+000 1.00000000e+000 1.00000000e+000 1.00000000e+000\n",
      " 1.00000000e+000 1.00000000e+000 1.00000000e+000 1.00000000e+000\n",
      " 1.00000000e+000 1.00000000e+000 1.00000000e+000 1.00000000e+000\n",
      " 1.00000000e+000 1.00000000e+000 1.00000000e+000 1.00000000e+000\n",
      " 1.00000000e+000 1.00000000e+000 1.00000000e+000 1.00000000e+000\n",
      " 1.00000000e+000 1.00000000e+000 1.00000000e+000 1.00000000e+000\n",
      " 1.00000000e+000 1.00000000e+000 1.00000000e+000 1.00000000e+000\n",
      " 1.00000000e+000 1.00000000e+000 1.00000000e+000 1.00000000e+000\n",
      " 1.00000000e+000 1.00000000e+000 1.00000000e+000 1.00000000e+000\n",
      " 1.00000000e+000 1.00000000e+000 1.00000000e+000 1.00000000e+000\n",
      " 1.00000000e+000 1.00000000e+000 1.00000000e+000 1.00000000e+000\n",
      " 1.00000000e+000 1.00000000e+000 1.00000000e+000 1.00000000e+000\n",
      " 1.00000000e+000 1.00000000e+000 1.00000000e+000 1.00000000e+000\n",
      " 1.00000000e+000 1.00000000e+000 1.00000000e+000 1.00000000e+000\n",
      " 1.00000000e+000 1.00000000e+000 1.00000000e+000 1.00000000e+000\n",
      " 1.00000000e+000 1.00000000e+000 1.00000000e+000 1.00000000e+000\n",
      " 1.00000000e+000 1.00000000e+000 1.00000000e+000 1.00000000e+000\n",
      " 1.00000000e+000]\n"
     ]
    }
   ],
   "source": [
    "import numpy as np\n",
    "\n",
    "x_array = np.arange(-100,101)\n",
    "print(\"x values = \", x_array)\n",
    "\n",
    "vSigmoid = np.vectorize(sigmoid)\n",
    "\n",
    "y_array = vSigmoid(x_array)\n",
    "print(\"x values = \", y_array)"
   ]
  },
  {
   "cell_type": "code",
   "execution_count": 7,
   "metadata": {},
   "outputs": [
    {
     "name": "stdout",
     "output_type": "stream",
     "text": [
      "Draw sigmoid\n"
     ]
    },
    {
     "data": {
      "image/png": "[encoded data removed]",
      "text/plain": [
       "<Figure size 432x288 with 1 Axes>"
      ]
     },
     "metadata": {
      "needs_background": "light"
     },
     "output_type": "display_data"
    },
    {
     "data": {
      "text/latex": [
       "$$ \\displaystyle \\mathrm{sigmoid}(x) = \\frac{{1}}{{1} + \\exp{\\left({-{3} x + {5}}\\right)}} $$"
      ],
      "text/plain": [
       "<latexify.frontend.LatexifiedFunction at 0x7fbadc174040>"
      ]
     },
     "execution_count": 7,
     "metadata": {},
     "output_type": "execute_result"
    }
   ],
   "source": [
    "import matplotlib.pyplot as plt\n",
    "\n",
    "print(\"Draw sigmoid\")\n",
    "plt.title(\"Sigmoid Function\")\n",
    "plt.xlabel(\"X Variable\")\n",
    "plt.ylabel(\"Y Variable\")\n",
    "\n",
    "plt.plot(x_array, y_array)\n",
    "plt.show()\n",
    "sigmoid"
   ]
  }
 ],
 "metadata": {
  "kernelspec": {
   "display_name": "Python 3",
   "language": "python",
   "name": "python3"
  },
  "language_info": {
   "codemirror_mode": {
    "name": "ipython",
    "version": 3
   },
   "file_extension": ".py",
   "mimetype": "text/x-python",
   "name": "python",
   "nbconvert_exporter": "python",
   "pygments_lexer": "ipython3",
   "version": "3.9.7"
  },
  "orig_nbformat": 4
 },
 "nbformat": 4,
 "nbformat_minor": 2
}
